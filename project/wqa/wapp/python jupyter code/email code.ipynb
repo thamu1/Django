{
 "cells": [
  {
   "cell_type": "code",
   "execution_count": 3,
   "id": "987542bb",
   "metadata": {},
   "outputs": [],
   "source": [
    "import smtplib"
   ]
  },
  {
   "cell_type": "code",
   "execution_count": 8,
   "id": "6dcceec4",
   "metadata": {},
   "outputs": [
    {
     "name": "stdout",
     "output_type": "stream",
     "text": [
      "mail sent\n"
     ]
    },
    {
     "data": {
      "text/plain": [
       "(221,\n",
       " b'2.0.0 closing connection h7-20020a170902f7c700b0019c91989a1csm2018750plw.300 - gsmtp')"
      ]
     },
     "execution_count": 8,
     "metadata": {},
     "output_type": "execute_result"
    }
   ],
   "source": [
    "server=smtplib.SMTP_SSL('smtp.gmail.com',465)\n",
    "server.ehlo()\n",
    "server.login(\"taahirimraan8601@gmail.com\",\"vptcjlkehrqssyik\")\n",
    "# msg=f\"{subject}\\n\\n YOU HAVE SUCCESSFULLY BOOKED... \"\n",
    "\n",
    "sender = \"taahirimraan8601@gmail.com\"\n",
    "receiver = \"thamuthamu98@gmail.com\"\n",
    "subject = \"Water Quality Level\"\n",
    "\n",
    "body = f\"Hello,\\n\\n{subject} is {}.\"\n",
    "msg = f\"From: {sender}\\nTo: {receiver}\\nSubject: {subject}\\n\\n{body}\"\n",
    "\n",
    "server.sendmail(\"taahirimraan8601@gmail.com\",\"thamuthamu98@gmail.com\",msg)\n",
    "print(\"mail sent\")\n",
    "server.quit()"
   ]
  },
  {
   "cell_type": "code",
   "execution_count": null,
   "id": "51fb020e",
   "metadata": {},
   "outputs": [],
   "source": []
  }
 ],
 "metadata": {
  "kernelspec": {
   "display_name": "Python 3 (ipykernel)",
   "language": "python",
   "name": "python3"
  },
  "language_info": {
   "codemirror_mode": {
    "name": "ipython",
    "version": 3
   },
   "file_extension": ".py",
   "mimetype": "text/x-python",
   "name": "python",
   "nbconvert_exporter": "python",
   "pygments_lexer": "ipython3",
   "version": "3.9.13"
  }
 },
 "nbformat": 4,
 "nbformat_minor": 5
}
